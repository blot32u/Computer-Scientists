{
  "cells": [
    {
      "cell_type": "markdown",
      "metadata": {
        "id": "view-in-github",
        "colab_type": "text"
      },
      "source": [
        "<a href=\"https://colab.research.google.com/github/blot32u/Computer-Scientists/blob/master/Copie_de_04_Devoir_Dataframe.ipynb\" target=\"_parent\"><img src=\"https://colab.research.google.com/assets/colab-badge.svg\" alt=\"Open In Colab\"/></a>"
      ]
    },
    {
      "cell_type": "markdown",
      "metadata": {
        "id": "_bpHhQIb8P5f"
      },
      "source": [
        "# Projet Spark DataFrames"
      ]
    },
    {
      "cell_type": "markdown",
      "metadata": {
        "id": "m-6dXGx-8P5i"
      },
      "source": [
        "Mettons rapidement en pratique vos nouvelles compétences Spark DataFrame, on vous posera quelques questions de base sur des données boursières, dans ce cas les actions Walmart des années 2012-2017.\n",
        "\n",
        "Répondez aux questions et effectuez les tâches ci-dessous, puis soumettez-les à Moodle."
      ]
    },
    {
      "cell_type": "markdown",
      "metadata": {
        "id": "dnP2lF4q8P5i"
      },
      "source": [
        "#### Utiliser le fichier walmart_stock.csv (disponible à la racine) pour répondre aux tâches ci-dessous :"
      ]
    },
    {
      "cell_type": "markdown",
      "metadata": {
        "id": "BfinRFbi8P5j"
      },
      "source": [
        "#### Démarrer une Spark Session"
      ]
    },
    {
      "cell_type": "code",
      "execution_count": null,
      "metadata": {
        "id": "dXhKu-CO8P5j",
        "outputId": "7d67f180-c61c-4d51-c735-54e8b2388545",
        "colab": {
          "base_uri": "https://localhost:8080/"
        }
      },
      "outputs": [
        {
          "output_type": "stream",
          "name": "stdout",
          "text": [
            "Collecting pyspark\n",
            "  Downloading pyspark-3.5.0.tar.gz (316.9 MB)\n",
            "\u001b[2K     \u001b[90m━━━━━━━━━━━━━━━━━━━━━━━━━━━━━━━━━━━━━━━━\u001b[0m \u001b[32m316.9/316.9 MB\u001b[0m \u001b[31m2.4 MB/s\u001b[0m eta \u001b[36m0:00:00\u001b[0m\n",
            "\u001b[?25h  Preparing metadata (setup.py) ... \u001b[?25l\u001b[?25hdone\n",
            "Requirement already satisfied: py4j==0.10.9.7 in /usr/local/lib/python3.10/dist-packages (from pyspark) (0.10.9.7)\n",
            "Building wheels for collected packages: pyspark\n",
            "  Building wheel for pyspark (setup.py) ... \u001b[?25l\u001b[?25hdone\n",
            "  Created wheel for pyspark: filename=pyspark-3.5.0-py2.py3-none-any.whl size=317425344 sha256=c09d488e4d1ddb119231b6a0812d032a687b1695cc54831a779111435f3f81ae\n",
            "  Stored in directory: /root/.cache/pip/wheels/41/4e/10/c2cf2467f71c678cfc8a6b9ac9241e5e44a01940da8fbb17fc\n",
            "Successfully built pyspark\n",
            "Installing collected packages: pyspark\n",
            "Successfully installed pyspark-3.5.0\n"
          ]
        }
      ],
      "source": [
        "!pip install pyspark"
      ]
    },
    {
      "cell_type": "code",
      "source": [
        "# Initialize Spark\n",
        "from pyspark.sql import SparkSession\n",
        "\n",
        "spark = SparkSession \\\n",
        "    .builder \\\n",
        "    .getOrCreate()"
      ],
      "metadata": {
        "id": "U4YUa-b3ph84"
      },
      "execution_count": null,
      "outputs": []
    },
    {
      "cell_type": "markdown",
      "metadata": {
        "id": "do6LvrWd8P5j"
      },
      "source": [
        "#### Charger le fichier CSV Walmart Stock. Laisser Spark deviner le schéma (type de données)."
      ]
    },
    {
      "cell_type": "code",
      "source": [
        "!wget https://github.com/lsteffenel/pyspark-binder/raw/master/walmart_stock.csv"
      ],
      "metadata": {
        "id": "ssHr5aCy8R-N",
        "outputId": "523df3cf-1a75-48f0-d86e-1fd55d2989f7",
        "colab": {
          "base_uri": "https://localhost:8080/"
        }
      },
      "execution_count": null,
      "outputs": [
        {
          "output_type": "stream",
          "name": "stdout",
          "text": [
            "--2023-11-23 10:09:15--  https://github.com/lsteffenel/pyspark-binder/raw/master/walmart_stock.csv\n",
            "Resolving github.com (github.com)... 140.82.121.3\n",
            "Connecting to github.com (github.com)|140.82.121.3|:443... connected.\n",
            "HTTP request sent, awaiting response... 302 Found\n",
            "Location: https://raw.githubusercontent.com/lsteffenel/pyspark-binder/master/walmart_stock.csv [following]\n",
            "--2023-11-23 10:09:15--  https://raw.githubusercontent.com/lsteffenel/pyspark-binder/master/walmart_stock.csv\n",
            "Resolving raw.githubusercontent.com (raw.githubusercontent.com)... 185.199.109.133, 185.199.111.133, 185.199.110.133, ...\n",
            "Connecting to raw.githubusercontent.com (raw.githubusercontent.com)|185.199.109.133|:443... connected.\n",
            "HTTP request sent, awaiting response... 200 OK\n",
            "Length: 90266 (88K) [text/plain]\n",
            "Saving to: ‘walmart_stock.csv’\n",
            "\n",
            "walmart_stock.csv   100%[===================>]  88.15K  --.-KB/s    in 0.007s  \n",
            "\n",
            "2023-11-23 10:09:16 (11.7 MB/s) - ‘walmart_stock.csv’ saved [90266/90266]\n",
            "\n"
          ]
        }
      ]
    },
    {
      "cell_type": "code",
      "execution_count": null,
      "metadata": {
        "id": "3bU8RgU58P5j",
        "colab": {
          "base_uri": "https://localhost:8080/"
        },
        "outputId": "588b868b-ab27-400b-d8d5-6b48bfd7b938"
      },
      "outputs": [
        {
          "output_type": "stream",
          "name": "stdout",
          "text": [
            "+----------+------------------+------------------+------------------+------------------+--------+------------------+\n",
            "|      Date|              Open|              High|               Low|             Close|  Volume|         Adj Close|\n",
            "+----------+------------------+------------------+------------------+------------------+--------+------------------+\n",
            "|2012-01-03|         59.970001|         61.060001|         59.869999|         60.330002|12668800|52.619234999999996|\n",
            "|2012-01-04|60.209998999999996|         60.349998|         59.470001|59.709998999999996| 9593300|         52.078475|\n",
            "|2012-01-05|         59.349998|         59.619999|         58.369999|         59.419998|12768200|         51.825539|\n",
            "|2012-01-06|         59.419998|         59.450001|         58.869999|              59.0| 8069400|          51.45922|\n",
            "|2012-01-09|         59.029999|         59.549999|         58.919998|             59.18| 6679300|51.616215000000004|\n",
            "|2012-01-10|             59.43|59.709998999999996|             58.98|59.040001000000004| 6907300|         51.494109|\n",
            "|2012-01-11|         59.060001|         59.529999|59.040001000000004|         59.400002| 6365600|         51.808098|\n",
            "|2012-01-12|59.790001000000004|              60.0|         59.400002|              59.5| 7236400|51.895315999999994|\n",
            "|2012-01-13|             59.18|59.610001000000004|59.009997999999996|59.540001000000004| 7729300|51.930203999999996|\n",
            "|2012-01-17|         59.869999|60.110001000000004|             59.52|         59.849998| 8500000|         52.200581|\n",
            "|2012-01-18|59.790001000000004|         60.029999|         59.650002|60.009997999999996| 5911400|         52.340131|\n",
            "|2012-01-19|             59.93|             60.73|             59.75|60.610001000000004| 9234600|         52.863447|\n",
            "|2012-01-20|             60.75|             61.25|         60.669998|61.009997999999996|10378800|53.212320999999996|\n",
            "|2012-01-23|         60.810001|             60.98|60.509997999999996|             60.91| 7134100|         53.125104|\n",
            "|2012-01-24|             60.75|              62.0|             60.75|61.389998999999996| 7362800| 53.54375400000001|\n",
            "|2012-01-25|             61.18|61.610001000000004|61.040001000000004|         61.470001| 5915800| 53.61353100000001|\n",
            "|2012-01-26|         61.799999|             61.84|             60.77|         60.970001| 7436200|         53.177436|\n",
            "|2012-01-27|60.860001000000004|         61.119999|60.540001000000004|60.709998999999996| 6287300|         52.950665|\n",
            "|2012-01-30|         60.470001|             61.32|         60.349998|         61.299999| 7636900|53.465256999999994|\n",
            "|2012-01-31|         61.529999|             61.57|         60.580002|61.360001000000004| 9761500|53.517590000000006|\n",
            "+----------+------------------+------------------+------------------+------------------+--------+------------------+\n",
            "only showing top 20 rows\n",
            "\n"
          ]
        }
      ],
      "source": [
        "#lecture du fichier\n",
        "walmart_df = spark.read.format(\"csv\").option(\"header\", \"true\").load(\"walmart_stock.csv\")\n",
        "\n",
        "walmart_df.show()"
      ]
    },
    {
      "cell_type": "markdown",
      "metadata": {
        "id": "IjHc0Rlv8P5k"
      },
      "source": [
        "#### Quels sont les nos des colonnes ?"
      ]
    },
    {
      "cell_type": "code",
      "execution_count": null,
      "metadata": {
        "jupyter": {
          "outputs_hidden": false
        },
        "id": "3mPTryIR8P5k",
        "outputId": "2fc9a40a-32a0-44e6-fa45-97e5f7b10100",
        "colab": {
          "base_uri": "https://localhost:8080/"
        }
      },
      "outputs": [
        {
          "output_type": "stream",
          "name": "stdout",
          "text": [
            "['Date', 'Open', 'High', 'Low', 'Close', 'Volume', 'Adj Close']\n"
          ]
        }
      ],
      "source": [
        "column_names = walmart_df.columns\n",
        "print(column_names)"
      ]
    },
    {
      "cell_type": "markdown",
      "metadata": {
        "id": "o8Dvg6cm8P5k"
      },
      "source": [
        "#### Affichez le schéma."
      ]
    },
    {
      "cell_type": "code",
      "execution_count": null,
      "metadata": {
        "jupyter": {
          "outputs_hidden": false
        },
        "id": "fI023Ai68P5k",
        "outputId": "f66a7843-74f5-4395-c27e-6a082f5cf7d2",
        "colab": {
          "base_uri": "https://localhost:8080/"
        }
      },
      "outputs": [
        {
          "output_type": "stream",
          "name": "stdout",
          "text": [
            "root\n",
            " |-- Date: string (nullable = true)\n",
            " |-- Open: string (nullable = true)\n",
            " |-- High: string (nullable = true)\n",
            " |-- Low: string (nullable = true)\n",
            " |-- Close: string (nullable = true)\n",
            " |-- Volume: string (nullable = true)\n",
            " |-- Adj Close: string (nullable = true)\n",
            "\n"
          ]
        }
      ],
      "source": [
        "walmart_df.printSchema()"
      ]
    },
    {
      "cell_type": "markdown",
      "metadata": {
        "id": "E5UkzV6q8P5l"
      },
      "source": [
        "#### Afficher les 5 premières colonnes."
      ]
    },
    {
      "cell_type": "code",
      "execution_count": null,
      "metadata": {
        "jupyter": {
          "outputs_hidden": false
        },
        "id": "XpSjhdO68P5l",
        "outputId": "f5376a0e-a94b-4d36-91bd-bf7ff878afdc",
        "colab": {
          "base_uri": "https://localhost:8080/"
        }
      },
      "outputs": [
        {
          "output_type": "stream",
          "name": "stdout",
          "text": [
            "+----------+------------------+------------------+------------------+------------------+\n",
            "|      Date|              Open|              High|               Low|             Close|\n",
            "+----------+------------------+------------------+------------------+------------------+\n",
            "|2012-01-03|         59.970001|         61.060001|         59.869999|         60.330002|\n",
            "|2012-01-04|60.209998999999996|         60.349998|         59.470001|59.709998999999996|\n",
            "|2012-01-05|         59.349998|         59.619999|         58.369999|         59.419998|\n",
            "|2012-01-06|         59.419998|         59.450001|         58.869999|              59.0|\n",
            "|2012-01-09|         59.029999|         59.549999|         58.919998|             59.18|\n",
            "|2012-01-10|             59.43|59.709998999999996|             58.98|59.040001000000004|\n",
            "|2012-01-11|         59.060001|         59.529999|59.040001000000004|         59.400002|\n",
            "|2012-01-12|59.790001000000004|              60.0|         59.400002|              59.5|\n",
            "|2012-01-13|             59.18|59.610001000000004|59.009997999999996|59.540001000000004|\n",
            "|2012-01-17|         59.869999|60.110001000000004|             59.52|         59.849998|\n",
            "|2012-01-18|59.790001000000004|         60.029999|         59.650002|60.009997999999996|\n",
            "|2012-01-19|             59.93|             60.73|             59.75|60.610001000000004|\n",
            "|2012-01-20|             60.75|             61.25|         60.669998|61.009997999999996|\n",
            "|2012-01-23|         60.810001|             60.98|60.509997999999996|             60.91|\n",
            "|2012-01-24|             60.75|              62.0|             60.75|61.389998999999996|\n",
            "|2012-01-25|             61.18|61.610001000000004|61.040001000000004|         61.470001|\n",
            "|2012-01-26|         61.799999|             61.84|             60.77|         60.970001|\n",
            "|2012-01-27|60.860001000000004|         61.119999|60.540001000000004|60.709998999999996|\n",
            "|2012-01-30|         60.470001|             61.32|         60.349998|         61.299999|\n",
            "|2012-01-31|         61.529999|             61.57|         60.580002|61.360001000000004|\n",
            "+----------+------------------+------------------+------------------+------------------+\n",
            "only showing top 20 rows\n",
            "\n"
          ]
        }
      ],
      "source": [
        "# Sélection des cinq premières colonnes\n",
        "selected_columns = walmart_df.columns[:5]\n",
        "\n",
        "# Affichage des cinq premières colonnes\n",
        "walmart_df.select(selected_columns).show()"
      ]
    },
    {
      "cell_type": "markdown",
      "metadata": {
        "id": "uVSjNL498P5l"
      },
      "source": [
        "#### Utiliser `describe()` pour apprendre plus sur le DataFrame."
      ]
    },
    {
      "cell_type": "code",
      "execution_count": null,
      "metadata": {
        "jupyter": {
          "outputs_hidden": false
        },
        "id": "FZRIhM5y8P5l",
        "outputId": "88f253f5-961c-4647-b696-da1f3a834ad4",
        "colab": {
          "base_uri": "https://localhost:8080/"
        }
      },
      "outputs": [
        {
          "output_type": "stream",
          "name": "stdout",
          "text": [
            "+-------+----------+------------------+-----------------+-----------------+-----------------+-----------------+-----------------+\n",
            "|summary|      Date|              Open|             High|              Low|            Close|           Volume|        Adj Close|\n",
            "+-------+----------+------------------+-----------------+-----------------+-----------------+-----------------+-----------------+\n",
            "|  count|      1258|              1258|             1258|             1258|             1258|             1258|             1258|\n",
            "|   mean|      NULL| 72.35785375357709|72.83938807631165| 71.9186009594594|72.38844998012726|8222093.481717011|67.23883848728146|\n",
            "| stddev|      NULL|  6.76809024470826|6.768186808159218|6.744075756255496|6.756859163732991|  4519780.8431556|6.722609449996857|\n",
            "|    min|2012-01-03|56.389998999999996|        57.060001|        56.299999|        56.419998|         10010500|        50.363689|\n",
            "|    max|2016-12-30|         90.800003|        90.970001|            89.25|        90.470001|          9994400|84.91421600000001|\n",
            "+-------+----------+------------------+-----------------+-----------------+-----------------+-----------------+-----------------+\n",
            "\n"
          ]
        }
      ],
      "source": [
        "# Utilisation de describe() pour obtenir des statistiques descriptives\n",
        "description = walmart_df.describe()\n",
        "\n",
        "# Affichage des statistiques descriptives\n",
        "description.show()\n"
      ]
    },
    {
      "cell_type": "markdown",
      "metadata": {
        "id": "_OZEhk5o8P5l"
      },
      "source": [
        "## Question Bonus !\n",
        "#### Il y a trop de décimales pour la moyenne et l'écart type, dans le cadre de données describe(). Formatez les nombres pour qu'ils n'affichent que deux décimales. Faites attention aux types de données que .describe() renvoie. [ce lien peut vous aider](http://spark.apache.org/docs/latest/api/python/pyspark.sql.html#pyspark.sql.Column.cast)\n",
        "\n",
        "Si vous bloquez ici, ce n'est pas grave (question bonus), vous pouvez passer à la prochaine étape."
      ]
    },
    {
      "cell_type": "code",
      "execution_count": null,
      "metadata": {
        "jupyter": {
          "outputs_hidden": false
        },
        "id": "YQ2zHIxN8P5l",
        "outputId": "46e404a6-6e93-41fb-f15f-4ac7c344c97b",
        "colab": {
          "base_uri": "https://localhost:8080/"
        }
      },
      "outputs": [
        {
          "output_type": "execute_result",
          "data": {
            "text/plain": [
              "DataFrame[summary: string, Date: string, Open: string, High: string, Low: string, Close: string, Volume: string]"
            ]
          },
          "metadata": {},
          "execution_count": 56
        }
      ],
      "source": [
        "from pyspark.sql.functions import col\n",
        "from pyspark.sql.functions import format_number\n",
        "formatted_description = walmart_df.select(\n",
        "    col(\"Date\"),\n",
        "    format_number(col(\"Open\").cast(\"double\"), 2).alias(\"Open\"),\n",
        "    format_number(col(\"High\").cast(\"double\"), 2).alias(\"High\"),\n",
        "    format_number(col(\"Low\").cast(\"double\"), 2).alias(\"Low\"),\n",
        "    format_number(col(\"Close\").cast(\"double\"), 2).alias(\"Close\"),\n",
        "    format_number(col(\"Volume\").cast(\"double\"), 2).alias(\"Volume\")\n",
        ")\n",
        "formatted_description.describe()\n",
        "\n",
        "# Affichage des statistiques descriptives avec formatage\n"
      ]
    },
    {
      "cell_type": "code",
      "execution_count": null,
      "metadata": {
        "id": "xlCt7nIF8P5l"
      },
      "outputs": [],
      "source": []
    },
    {
      "cell_type": "code",
      "execution_count": null,
      "metadata": {
        "jupyter": {
          "outputs_hidden": false
        },
        "id": "R0wqbNPu8P5l"
      },
      "outputs": [],
      "source": []
    },
    {
      "cell_type": "markdown",
      "metadata": {
        "id": "FC_3EKfF8P5m"
      },
      "source": [
        "#### Créer un nouveau dataframe avec une colonne appelée *HV Ratio* qui est le ratio entre *High Price* et le volume de marchandises négocié dans une journée."
      ]
    },
    {
      "cell_type": "code",
      "execution_count": null,
      "metadata": {
        "jupyter": {
          "outputs_hidden": false
        },
        "id": "u1iNj4cs8P5m",
        "outputId": "8a46d6f2-c3a6-46bb-c6f3-2a7fa38b4f24",
        "colab": {
          "base_uri": "https://localhost:8080/"
        }
      },
      "outputs": [
        {
          "output_type": "stream",
          "name": "stdout",
          "text": [
            "+----------+--------+-------------+--------+\n",
            "|      Date|    High|       Volume|HV Ratio|\n",
            "+----------+--------+-------------+--------+\n",
            "|      1258|1,258.00|     1,258.00|    NULL|\n",
            "|      NULL|   72.84| 8,222,093.48|    NULL|\n",
            "|      NULL|    6.77| 4,519,780.84|    NULL|\n",
            "|2012-01-03|   57.06|10,010,500.00|    NULL|\n",
            "|2016-12-30|   90.97| 9,994,400.00|    NULL|\n",
            "+----------+--------+-------------+--------+\n",
            "\n"
          ]
        }
      ],
      "source": [
        "# Création du nouveau DataFrame avec la colonne \"HV Ratio\"\n",
        "new_walmart_df = formatted_description.withColumn(\"HV Ratio\", col(\"High\") / col(\"Volume\"))\n",
        "\n",
        "# Affichage des premières lignes du nouveau DataFrame\n",
        "new_walmart_df.select(\"Date\", \"High\", \"Volume\", \"HV Ratio\").show(5)"
      ]
    },
    {
      "cell_type": "markdown",
      "metadata": {
        "id": "4g9WNXGk8P5m"
      },
      "source": [
        "#### Quel jour a le plus grand pic dans la colonne Price ?"
      ]
    },
    {
      "cell_type": "code",
      "execution_count": null,
      "metadata": {
        "jupyter": {
          "outputs_hidden": false
        },
        "id": "E-2akUWP8P5m"
      },
      "outputs": [],
      "source": []
    },
    {
      "cell_type": "markdown",
      "metadata": {
        "id": "xd0KVNVu8P5m"
      },
      "source": [
        "#### Quelle est la moyenne de la colonne Close ?"
      ]
    },
    {
      "cell_type": "code",
      "execution_count": null,
      "metadata": {
        "jupyter": {
          "outputs_hidden": false
        },
        "id": "I-5T_gBX8P5m"
      },
      "outputs": [],
      "source": []
    },
    {
      "cell_type": "markdown",
      "metadata": {
        "id": "wxj_7K9X8P5m"
      },
      "source": [
        "#### Quel est le max et le min de la colonne Volume ?"
      ]
    },
    {
      "cell_type": "code",
      "execution_count": null,
      "metadata": {
        "id": "j734NvMx8P5m"
      },
      "outputs": [],
      "source": []
    },
    {
      "cell_type": "code",
      "execution_count": null,
      "metadata": {
        "jupyter": {
          "outputs_hidden": false
        },
        "id": "KIhcO9_m8P5m"
      },
      "outputs": [],
      "source": []
    },
    {
      "cell_type": "markdown",
      "metadata": {
        "id": "JKX2sePz8P5m"
      },
      "source": [
        "#### Combien de jours la colonne Close a affiché de valeurs inférieures à 60 dollars ?"
      ]
    },
    {
      "cell_type": "code",
      "execution_count": null,
      "metadata": {
        "jupyter": {
          "outputs_hidden": false
        },
        "id": "qg-lw9w_8P5m"
      },
      "outputs": [],
      "source": []
    },
    {
      "cell_type": "markdown",
      "metadata": {
        "id": "_6vaAkx88P5m"
      },
      "source": [
        "#### Quel percentage du temps la colonne High était supérieure à 80 dollars ?\n",
        "#### En gros, (nombre de jours où High>80)/(nombre total de jours dans le dataset)"
      ]
    },
    {
      "cell_type": "code",
      "execution_count": null,
      "metadata": {
        "jupyter": {
          "outputs_hidden": false
        },
        "id": "8Hkz_iF_8P5m"
      },
      "outputs": [],
      "source": []
    },
    {
      "cell_type": "markdown",
      "metadata": {
        "id": "U5-VsoB18P5m"
      },
      "source": [
        "#### Quelle est la corrélation Pearson entre High et Volume ?\n",
        "#### [Astuce](http://spark.apache.org/docs/latest/api/python/pyspark.sql.html#pyspark.sql.DataFrameStatFunctions.corr)"
      ]
    },
    {
      "cell_type": "code",
      "execution_count": null,
      "metadata": {
        "jupyter": {
          "outputs_hidden": false
        },
        "id": "rx25FZVi8P5n"
      },
      "outputs": [],
      "source": []
    },
    {
      "cell_type": "markdown",
      "metadata": {
        "id": "9qrsZac18P5n"
      },
      "source": [
        "#### Quelle est la plus grande valeur High de l'année ?"
      ]
    },
    {
      "cell_type": "code",
      "execution_count": null,
      "metadata": {
        "jupyter": {
          "outputs_hidden": false
        },
        "id": "a8l60Vv08P5n"
      },
      "outputs": [],
      "source": []
    },
    {
      "cell_type": "markdown",
      "metadata": {
        "id": "0VJctC6G8P5n"
      },
      "source": [
        "#### Quelle est la moyenne de Close pour chaque mois (Jan, Feb, ...) ?"
      ]
    },
    {
      "cell_type": "code",
      "execution_count": null,
      "metadata": {
        "jupyter": {
          "outputs_hidden": false
        },
        "id": "VtZql8AN8P5n"
      },
      "outputs": [],
      "source": []
    },
    {
      "cell_type": "markdown",
      "metadata": {
        "id": "jYef5vzS8P5n"
      },
      "source": [
        "# Bon boulot, et n'oubliez pas de déposer votre .ipynb sur Moodle :)"
      ]
    },
    {
      "cell_type": "code",
      "execution_count": null,
      "metadata": {
        "id": "OvSCxy_98P5q"
      },
      "outputs": [],
      "source": []
    }
  ],
  "metadata": {
    "anaconda-cloud": {},
    "kernelspec": {
      "display_name": "Python 3 (ipykernel)",
      "language": "python",
      "name": "python3"
    },
    "language_info": {
      "codemirror_mode": {
        "name": "ipython",
        "version": 3
      },
      "file_extension": ".py",
      "mimetype": "text/x-python",
      "name": "python",
      "nbconvert_exporter": "python",
      "pygments_lexer": "ipython3",
      "version": "3.7.12"
    },
    "colab": {
      "provenance": [],
      "include_colab_link": true
    }
  },
  "nbformat": 4,
  "nbformat_minor": 0
}